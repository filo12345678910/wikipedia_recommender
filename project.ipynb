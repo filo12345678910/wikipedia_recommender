{
  "cells": [
    {
      "cell_type": "markdown",
      "metadata": {
        "id": "KQMXCyC_t3Re"
      },
      "source": [
        "# Wikipedia Recomendation Systems"
      ]
    },
    {
      "cell_type": "markdown",
      "metadata": {
        "id": "7zxD1j4PO0_G"
      },
      "source": [
        "# Code part:"
      ]
    },
    {
      "cell_type": "markdown",
      "metadata": {
        "id": "lK8pRaBm4pKN"
      },
      "source": [
        "## Imports"
      ]
    },
    {
      "cell_type": "code",
      "execution_count": 148,
      "metadata": {
        "colab": {
          "base_uri": "https://localhost:8080/"
        },
        "id": "PvEhwqk64rh4",
        "outputId": "0dcfa9f4-c415-413a-95d9-5bd1da7935b8"
      },
      "outputs": [
        {
          "name": "stderr",
          "output_type": "stream",
          "text": [
            "[nltk_data] Downloading package stopwords to /root/nltk_data...\n",
            "[nltk_data]   Package stopwords is already up-to-date!\n",
            "[nltk_data] Downloading package punkt to /root/nltk_data...\n",
            "[nltk_data]   Package punkt is already up-to-date!\n"
          ]
        },
        {
          "data": {
            "text/plain": [
              "True"
            ]
          },
          "execution_count": 148,
          "metadata": {},
          "output_type": "execute_result"
        }
      ],
      "source": [
        "import requests\n",
        "import bs4\n",
        "import re\n",
        "from time import sleep\n",
        "import random\n",
        "import networkx as nx\n",
        "import nltk\n",
        "from nltk.corpus import stopwords\n",
        "from nltk.tokenize import word_tokenize\n",
        "from nltk.stem import PorterStemmer\n",
        "from google.colab import drive\n",
        "import csv\n",
        "import sys\n",
        "import pandas as pd\n",
        "from sklearn.feature_extraction.text import CountVectorizer, TfidfVectorizer\n",
        "from sklearn.metrics.pairwise import cosine_similarity\n",
        "import matplotlib.pyplot as plt\n",
        "from collections import Counter\n",
        "import seaborn as sns\n",
        "\n",
        "nltk.download('stopwords')\n",
        "nltk.download('punkt')"
      ]
    },
    {
      "cell_type": "markdown",
      "metadata": {
        "id": "91H9nfQst8I6"
      },
      "source": [
        "## Input"
      ]
    },
    {
      "cell_type": "code",
      "execution_count": 149,
      "metadata": {
        "id": "Oy0AyLoNqqHe"
      },
      "outputs": [],
      "source": [
        "links = ['https://en.wikipedia.org/wiki/Wikipedia:Unusual_articles']"
      ]
    },
    {
      "cell_type": "markdown",
      "metadata": {
        "id": "P39fFGVxuO7L"
      },
      "source": [
        "## Crawling and scraping"
      ]
    },
    {
      "cell_type": "code",
      "execution_count": 150,
      "metadata": {
        "id": "Kmaytnj5JNDA"
      },
      "outputs": [],
      "source": [
        "def find_all_link(link, max_pages = 5000):\n",
        "  response = requests.get(link)\n",
        "  parsed = bs4.BeautifulSoup(response.text)\n",
        "  links = parsed.find_all('a', attrs={'href': re.compile(r'^/wiki')})\n",
        "  visited = set()\n",
        "  stack = set()\n",
        "  stack.add(link)\n",
        "  ret = set()\n",
        "  ret.add(link)\n",
        "  while stack:\n",
        "    page = stack.pop()\n",
        "    if page not in visited:\n",
        "      visited.add(page)\n",
        "      ret.add(page)\n",
        "      response = requests.get(page)\n",
        "      parsed = bs4.BeautifulSoup(response.text)\n",
        "      links = parsed.find_all('a', attrs={'href': re.compile(r'^/wiki')})\n",
        "      for i in links:\n",
        "        if len(ret) >= max_pages:\n",
        "          return list(ret)\n",
        "        stack.add('https://en.wikipedia.org' + i['href'])\n",
        "        ret.add('https://en.wikipedia.org' + i['href'])\n",
        "\n",
        "def find_all_links(links, max_pages = 1000):\n",
        "  ret = set()\n",
        "  for link in links:\n",
        "    ret.update(find_all_link(link, max_pages))\n",
        "  return list(ret)\n",
        "\n",
        "def get_text_from_link(link):\n",
        "  response = requests.get(link)\n",
        "  response.raise_for_status()\n",
        "\n",
        "  parsed = bs4.BeautifulSoup(response.text, 'html.parser')\n",
        "  paragraphs = parsed.select('p')\n",
        "  article_text = ''.join(p.getText() for p in paragraphs)\n",
        "  return article_text\n",
        "\n",
        "def get_text_from_links(links):\n",
        "  return [(link, get_text_from_link(link)) for link in links]"
      ]
    },
    {
      "cell_type": "markdown",
      "metadata": {
        "id": "T1hBZ-wOVpfN"
      },
      "source": [
        "## Stemming, lemmatization"
      ]
    },
    {
      "cell_type": "code",
      "execution_count": 151,
      "metadata": {
        "id": "ROZaD9myVt9B"
      },
      "outputs": [],
      "source": [
        "def process_document(document):\n",
        "  porter = PorterStemmer()\n",
        "  words = word_tokenize(document)\n",
        "\n",
        "  stop_words = set(stopwords.words('english'))\n",
        "  filtered_words = [word for word in words if word.lower() not in stop_words]\n",
        "\n",
        "  stemmed_words = [porter.stem(word) for word in filtered_words]\n",
        "  processed_text = ' '.join(stemmed_words)\n",
        "\n",
        "  return processed_text\n",
        "\n",
        "def process_documents(documents):\n",
        "  return [(name, process_document(document)) for name, document in documents]"
      ]
    },
    {
      "cell_type": "markdown",
      "metadata": {
        "id": "xmryDrFsiNKx"
      },
      "source": [
        "## Similarities"
      ]
    },
    {
      "cell_type": "code",
      "execution_count": 152,
      "metadata": {
        "id": "ysNpu7JeiNVl"
      },
      "outputs": [],
      "source": [
        "def most_simillar_document(querry, documents):\n",
        "  query_df = pd.DataFrame(tfidf.transform([querry]).toarray(), columns=documents.columns)\n",
        "  similarity_scores = cosine_similarity(query_df, documents).flatten()\n",
        "  document_scores = list(zip(documents.index, similarity_scores))\n",
        "  sorted_documents = sorted(document_scores, key=lambda x: x[1], reverse=True)\n",
        "\n",
        "  return sorted_documents\n",
        "\n",
        "def most_simillar_documents(querries, documents):\n",
        "\n",
        "  return [[querry, most_simillar_document(querry, documents)] for querry in querries]"
      ]
    },
    {
      "cell_type": "markdown",
      "metadata": {
        "id": "PtwpYib8GLBe"
      },
      "source": [
        "## Get data to csv"
      ]
    },
    {
      "cell_type": "code",
      "execution_count": 153,
      "metadata": {
        "id": "AYgckN1QGLTN"
      },
      "outputs": [],
      "source": [
        "#scraped_links = find_all_links(links, max_pages = 1000)\n",
        "#documents = get_text_from_links(scraped_links)\n",
        "#processed_documents = process_documents(documents)\n",
        "\n",
        "#drive.mount('/content/gdrive')\n",
        "#csv_file_path = '/content/gdrive/My Drive/processed_documents.csv'\n",
        "#with open(csv_file_path, 'w', newline='', encoding='utf-8') as csvfile:\n",
        "#    csv_writer = csv.writer(csvfile)\n",
        "#    csv_writer.writerows([(name, doc) for name, doc in processed_documents])"
      ]
    },
    {
      "cell_type": "markdown",
      "metadata": {
        "id": "rFM26phOgIGh"
      },
      "source": [
        "## Main algorithm, where for each querry the best one is selected"
      ]
    },
    {
      "cell_type": "code",
      "execution_count": 160,
      "metadata": {
        "colab": {
          "base_uri": "https://localhost:8080/"
        },
        "id": "fXiEeTyEgILF",
        "outputId": "d7620c35-1dc2-45f5-b2b4-9e13c21b41f3"
      },
      "outputs": [
        {
          "name": "stdout",
          "output_type": "stream",
          "text": [
            "For querry: https://en.wikipedia.org/wiki/Poland best found page is: ('https://en.wikipedia.org/wiki/Poland', 1.0000000000000007)\n",
            "For querry: https://en.wikipedia.org/wiki/Katy_Perry best found page is: ('https://en.wikipedia.org/wiki/Cult_following', 0.1906373403144635)\n",
            "For querry: https://en.wikipedia.org/wiki/Horror_fiction best found page is: ('https://en.wikipedia.org/wiki/The_Thing_from_Another_World', 0.10269378353631864)\n",
            "For querry: https://en.wikipedia.org/wiki/Computer best found page is: ('https://en.wikipedia.org/wiki/Capitol_Hill%27s_mystery_soda_machine', 0.12542879361533174)\n"
          ]
        }
      ],
      "source": [
        "querries = ['https://en.wikipedia.org/wiki/Poland', 'https://en.wikipedia.org/wiki/Katy_Perry', 'https://en.wikipedia.org/wiki/Horror_fiction', 'https://en.wikipedia.org/wiki/Computer']\n",
        "csv_file_path = '/content/gdrive/My Drive/processed_documents.csv'\n",
        "documents = []\n",
        "csv.field_size_limit(sys.maxsize)\n",
        "\n",
        "\n",
        "with open(csv_file_path, 'r', newline='', encoding='utf-8') as csvfile:\n",
        "  csv_reader = csv.reader(csvfile)\n",
        "  next(csv_reader, None)\n",
        "\n",
        "  for row in csv_reader:\n",
        "    documents.append(row)\n",
        "\n",
        "\n",
        "\n",
        "querries_text = get_text_from_links(querries)\n",
        "processed_querries = process_documents(querries_text)\n",
        "\n",
        "querries_text = [document[1] for document in processed_querries]\n",
        "querries_name = [document[0] for document in processed_querries]\n",
        "\n",
        "documents_text = [document[1] for document in documents]\n",
        "documents_name = [document[0] for document in documents]\n",
        "\n",
        "tfidf=TfidfVectorizer(use_idf=True, smooth_idf=False)\n",
        "df = pd.DataFrame(tfidf.fit_transform(documents_text).toarray(), index=documents_name, columns=tfidf.get_feature_names_out())\n",
        "\n",
        "results = most_simillar_documents(querries_text, df)\n",
        "\n",
        "for i, (querry, page) in enumerate(results):\n",
        "  print(f\"For querry: {querries_name[i]} best found page is: {page[0]}\")"
      ]
    },
    {
      "cell_type": "markdown",
      "metadata": {
        "id": "mXikMCYsMlhS"
      },
      "source": [
        "## Main algorithm where querries are joined together"
      ]
    },
    {
      "cell_type": "code",
      "execution_count": 161,
      "metadata": {
        "colab": {
          "base_uri": "https://localhost:8080/"
        },
        "id": "Y_LuIw63Mlmh",
        "outputId": "3dcb161e-b4a6-48a7-d936-bcb04e350b39"
      },
      "outputs": [
        {
          "name": "stdout",
          "output_type": "stream",
          "text": [
            "For querry: ['https://en.wikipedia.org/wiki/Poland', 'https://en.wikipedia.org/wiki/Katy_Perry', 'https://en.wikipedia.org/wiki/Horror_fiction', 'https://en.wikipedia.org/wiki/Computer'] best found pages are:\n",
            "Page nr 0: ('https://en.wikipedia.org/wiki/Poland', 0.5613939846882504)\n",
            "Page nr 1: ('https://en.wikipedia.org/wiki/United_States', 0.25332508642828055)\n",
            "Page nr 2: ('https://en.wikipedia.org/wiki/Kielce_Bus_Station', 0.2149201823657025)\n",
            "Page nr 3: ('https://en.wikipedia.org/wiki/Europe', 0.20776756734075433)\n",
            "Page nr 4: ('https://en.wikipedia.org/wiki/Greetings_from_Jerusalem_Avenue', 0.20476306671173589)\n"
          ]
        }
      ],
      "source": [
        "querry_list = ['https://en.wikipedia.org/wiki/Poland', 'https://en.wikipedia.org/wiki/Katy_Perry', 'https://en.wikipedia.org/wiki/Horror_fiction', 'https://en.wikipedia.org/wiki/Computer']\n",
        "\n",
        "querries_text = get_text_from_links(querries)\n",
        "processed_querries = process_documents(querries_text)\n",
        "\n",
        "querries_text = [document[1] for document in processed_querries]\n",
        "querries_name = [document[0] for document in processed_querries]\n",
        "\n",
        "documents_text = [document[1] for document in documents]\n",
        "documents_name = [document[0] for document in documents]\n",
        "\n",
        "tfidf=TfidfVectorizer(use_idf=True, smooth_idf=False)\n",
        "df = pd.DataFrame(tfidf.fit_transform(documents_text).toarray(), index=documents_name, columns=tfidf.get_feature_names_out())\n",
        "\n",
        "results = most_simillar_documents([''.join(querries_text)], df)\n",
        "\n",
        "for i, (querry, page) in enumerate(results):\n",
        "  print(f\"For querry: {querry_list} best found pages are:\")\n",
        "  for j in range(5):\n",
        "    print(f\"Page nr {j}: {page[j]}\")"
      ]
    },
    {
      "cell_type": "markdown",
      "metadata": {
        "id": "BfRjM9rTO3xk"
      },
      "source": [
        "# Analysis Part:"
      ]
    },
    {
      "cell_type": "markdown",
      "metadata": {
        "id": "MrA_YCsMO_7U"
      },
      "source": [
        "# How does algorithm work:\n",
        "I scraped text from 1000 wikipedia articles using BFS that stem from 'https://en.wikipedia.org/wiki/Wikipedia:Unusual_articles', I chose it because I decided I want user to have unique and interesting articles presented to them.\n",
        "\n",
        "Next, using PorterStemmer combined with deletion of stop words I preprocessed them, along with respective querries.\n",
        "\n",
        "Lastly for finding similarities, I used TFIDF table combined with cosine simillarity to find most suitable article. In case of multiple querries I decided to code 2 different approaches. In the first one user provides list of querries and for each of them, the single best article is returned. For second approach, all querries are combined to one, simulating user browsing through wikipedia.\n",
        "\n",
        "# Interesting statistics from data:\n",
        "\n"
      ]
    },
    {
      "cell_type": "markdown",
      "metadata": {
        "id": "k2k8NWesWLAR"
      },
      "source": [
        "What are most frequent words in those articles?"
      ]
    },
    {
      "cell_type": "code",
      "execution_count": 156,
      "metadata": {
        "colab": {
          "base_uri": "https://localhost:8080/",
          "height": 594
        },
        "id": "vlfHdjsMSyB5",
        "outputId": "3f11406d-1dcf-49c8-8933-f33a18ce0881"
      },
      "outputs": [
        {
          "data": {
            "image/png": "[encoded data removed]",
            "text/plain": [
              "<Figure size 1000x600 with 1 Axes>"
            ]
          },
          "metadata": {},
          "output_type": "display_data"
        }
      ],
      "source": [
        "text = ' '.join([document[1] for document in documents])\n",
        "tokens = word_tokenize(text)\n",
        "stop_words = set(stopwords.words('english'))\n",
        "filtered_tokens = [word.lower() for word in tokens if word.isalpha() and word.lower() not in stop_words]\n",
        "\n",
        "word_freq = Counter(filtered_tokens)\n",
        "\n",
        "top_words = word_freq.most_common(10)\n",
        "\n",
        "\n",
        "plt.figure(figsize=(10, 6))\n",
        "plt.bar(*zip(*top_words))\n",
        "plt.xlabel('Words')\n",
        "plt.ylabel('Frequency')\n",
        "plt.title('Top 10 Most Frequent Words in the Document')\n",
        "plt.xticks(rotation=45, ha='right')\n",
        "plt.show()"
      ]
    },
    {
      "cell_type": "markdown",
      "metadata": {
        "id": "nMJvJRxXWloN"
      },
      "source": [
        "A lot of words that describe countries appear there because in initial document there are a lot of articles about geography."
      ]
    },
    {
      "cell_type": "code",
      "execution_count": 157,
      "metadata": {
        "colab": {
          "base_uri": "https://localhost:8080/",
          "height": 564
        },
        "id": "Veoc5ULgW0rl",
        "outputId": "b34f766e-fb61-41ed-ccbb-b6ff1b4783dc"
      },
      "outputs": [
        {
          "data": {
            "image/png": "[encoded data removed]",
            "text/plain": [
              "<Figure size 1000x600 with 1 Axes>"
            ]
          },
          "metadata": {},
          "output_type": "display_data"
        }
      ],
      "source": [
        "tokens = word_tokenize(text)\n",
        "\n",
        "stop_words = set(stopwords.words('english'))\n",
        "filtered_tokens = [word.lower() for word in tokens if word.isalpha() and word.lower() not in stop_words]\n",
        "\n",
        "word_freq = Counter(filtered_tokens)\n",
        "\n",
        "plt.figure(figsize=(10, 6))\n",
        "plt.hist(word_freq.values(), bins=10, color='green', edgecolor='black', alpha=0.7)\n",
        "plt.xlabel('Word Frequency')\n",
        "plt.ylabel('Number of Words')\n",
        "plt.title('Histogram of Word Frequencies in the Document')\n",
        "plt.show()"
      ]
    },
    {
      "cell_type": "markdown",
      "metadata": {
        "id": "JitZDqGSXvIV"
      },
      "source": [
        "Plot shows taht most words only appear one time, wich makes sense. There are a lot of words specifically tied to a particular article."
      ]
    },
    {
      "cell_type": "code",
      "execution_count": 158,
      "metadata": {
        "colab": {
          "base_uri": "https://localhost:8080/"
        },
        "id": "TdI80EIdXbWD",
        "outputId": "aa145874-7958-4ef5-9694-c4b5d586f449"
      },
      "outputs": [
        {
          "name": "stdout",
          "output_type": "stream",
          "text": [
            "\n",
            "Top contributing words for 'https://en.wikipedia.org/wiki/Shani_Shingnapur':\n",
            "shani: 0.7012\n",
            "shingnapur: 0.3322\n",
            "templ: 0.1810\n",
            "lord: 0.1503\n",
            "swayambhu: 0.1476\n",
            "villag: 0.1435\n",
            "shepherd: 0.1354\n",
            "devote: 0.1147\n",
            "theft: 0.1121\n",
            "shanaishwara: 0.1107\n",
            "\n",
            "Top contributing words for 'https://en.wikipedia.org/wiki/Castle_Doctrine_in_the_United_States':\n",
            "forc: 0.3570\n",
            "person: 0.3373\n",
            "unlaw: 0.2963\n",
            "deadli: 0.2902\n",
            "use: 0.2231\n",
            "law: 0.2121\n",
            "dwell: 0.1937\n",
            "reason: 0.1680\n",
            "justifi: 0.1540\n",
            "doctrin: 0.1438\n",
            "\n",
            "Top contributing words for 'https://en.wikipedia.org/wiki/Wendy%27s':\n",
            "wendi: 0.8652\n",
            "restaur: 0.1895\n",
            "menu: 0.1653\n",
            "sandwich: 0.0994\n",
            "patti: 0.0973\n",
            "hamburg: 0.0913\n",
            "breakfast: 0.0907\n",
            "chain: 0.0821\n",
            "open: 0.0644\n",
            "thoma: 0.0623\n",
            "\n",
            "Top contributing words for 'https://en.wikipedia.org/wiki/Sovereign_Military_Order_of_Malta':\n",
            "order: 0.5451\n",
            "malta: 0.3338\n",
            "grand: 0.2820\n",
            "knight: 0.2398\n",
            "master: 0.2305\n",
            "sovereign: 0.1666\n",
            "priori: 0.1526\n",
            "hospital: 0.1252\n",
            "pope: 0.1146\n",
            "cardin: 0.0972\n",
            "\n",
            "Top contributing words for 'https://en.wikipedia.org/wiki/Yukhari_Askipara':\n",
            "qazakh: 0.4069\n",
            "askipara: 0.3376\n",
            "azerbaijani: 0.3166\n",
            "voskepar: 0.2251\n",
            "armenia: 0.2158\n",
            "tavush: 0.2124\n",
            "yukhari: 0.2034\n",
            "villag: 0.2020\n",
            "armenian: 0.1986\n",
            "azerbaijan: 0.1489\n",
            "\n",
            "Top contributing words for 'https://en.wikipedia.org/wiki/Poland':\n",
            "poland: 0.7056\n",
            "polish: 0.4565\n",
            "countri: 0.1043\n",
            "warsaw: 0.0895\n",
            "kraków: 0.0833\n",
            "sejm: 0.0824\n",
            "europ: 0.0737\n",
            "nation: 0.0678\n",
            "european: 0.0673\n",
            "bolesław: 0.0561\n"
          ]
        }
      ],
      "source": [
        "tfidf_vectorizer = TfidfVectorizer(stop_words='english')\n",
        "tfidf_matrix = tfidf_vectorizer.fit_transform([document[1] for document in documents])\n",
        "\n",
        "target_articles = [document[0] for document in documents[0:5]]\n",
        "target_articles += ['https://en.wikipedia.org/wiki/Poland']\n",
        "\n",
        "cosine_similarities = cosine_similarity(tfidf_matrix, tfidf_matrix)\n",
        "\n",
        "important_words = tfidf_vectorizer.get_feature_names_out()\n",
        "\n",
        "for target_article in target_articles:\n",
        "    article_index = [document[0] for document in documents].index(target_article)\n",
        "    word_weights = list(zip(important_words, tfidf_matrix[article_index].toarray()[0]))\n",
        "    word_weights.sort(key=lambda x: x[1], reverse=True)\n",
        "    top_words_contributions = word_weights[:10]\n",
        "\n",
        "    print(f\"\\nTop contributing words for '{target_article}':\")\n",
        "    for word, weight in top_words_contributions:\n",
        "        print(f\"{word}: {weight:.4f}\")"
      ]
    },
    {
      "cell_type": "markdown",
      "metadata": {
        "id": "5HLYhVRSbf-b"
      },
      "source": [
        "I also implemented function that shows most important words for each article in database. Most of them are as expected very specific words tied to concept presented in article. It is seen in Poland article. Som of those words are poland, warsaw or europe"
      ]
    }
  ],
  "metadata": {
    "colab": {
      "collapsed_sections": [
        "7zxD1j4PO0_G",
        "MrA_YCsMO_7U"
      ],
      "provenance": []
    },
    "kernelspec": {
      "display_name": "Python 3",
      "name": "python3"
    },
    "language_info": {
      "name": "python"
    }
  },
  "nbformat": 4,
  "nbformat_minor": 0
}
